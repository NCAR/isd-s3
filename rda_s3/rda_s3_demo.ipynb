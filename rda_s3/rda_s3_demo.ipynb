{
 "cells": [
  {
   "cell_type": "markdown",
   "metadata": {},
   "source": [
    "# RDA S3 Demo"
   ]
  },
  {
   "cell_type": "markdown",
   "metadata": {},
   "source": [
    "***The purpose of this notebook is to demonstrate the basic functionality of rda_s3.py, which is a command line utility to interact with an object store.***\n",
    "***These actions include basic object actions, as well as more powerful operations.***\n",
    "\n",
    "***Note: This is a work in progress***"
   ]
  },
  {
   "cell_type": "code",
   "execution_count": 1,
   "metadata": {},
   "outputs": [
    {
     "name": "stdout",
     "output_type": "stream",
     "text": [
      "-rwxr-xr-x  1 rpconroy  CIT\\Domain Users  22251 Mar 26 08:49 rda_s3.py\r\n",
      "-rw-r--r--  1 rpconroy  CIT\\Domain Users   2700 Mar 26 08:58 rda_s3_demo.ipynb\r\n"
     ]
    }
   ],
   "source": [
    "# Notebook reminder: '!' at the beginning of a line indicates we're shelling out the command\n",
    "! ls -l | grep s3"
   ]
  },
  {
   "cell_type": "markdown",
   "metadata": {},
   "source": [
    "## Tool Help"
   ]
  },
  {
   "cell_type": "code",
   "execution_count": 2,
   "metadata": {},
   "outputs": [
    {
     "name": "stdout",
     "output_type": "stream",
     "text": [
      "usage: rda_s3 [-h] [--noprint] [--prettyprint] [--use_local_config]\r\n",
      "              {list_buckets,lb,delete,dl,get_object,go,upload_mult,um,upload,ul,disk_usage,du,list_objects,lo,get_metadata,gm}\r\n",
      "              ...\r\n",
      "\r\n",
      "CLI to interact with s3.\r\n",
      "Note: To use optional arguments, put them before sub-command.\r\n",
      "\r\n",
      "optional arguments:\r\n",
      "  -h, --help            show this help message and exit\r\n",
      "  --noprint, -np        Do not print result of actions.\r\n",
      "  --prettyprint, -pp    Pretty print result\r\n",
      "  --use_local_config, -ul\r\n",
      "                        Use your local credentials. (~/.aws/credentials)\r\n",
      "\r\n",
      "Actions:\r\n",
      "  {list_buckets,lb,delete,dl,get_object,go,upload_mult,um,upload,ul,disk_usage,du,list_objects,lo,get_metadata,gm}\r\n",
      "                        Use `tool [command] -h` for more info on command\r\n",
      "    list_buckets (lb)   lists Buckets\r\n",
      "    delete (dl)         Delete objects\r\n",
      "    get_object (go)     Pull object from store\r\n",
      "    upload_mult (um)    Upload multiple objects.\r\n",
      "    upload (ul)         Upload objects\r\n",
      "    disk_usage (du)     Reports disc usage from objects\r\n",
      "    list_objects (lo)   List objects\r\n",
      "    get_metadata (gm)   Get Metadata of object\r\n",
      "1"
     ]
    }
   ],
   "source": [
    "# Main Help\n",
    "! ./rda_s3.py"
   ]
  },
  {
   "cell_type": "code",
   "execution_count": 3,
   "metadata": {},
   "outputs": [
    {
     "name": "stdout",
     "output_type": "stream",
     "text": [
      "usage: rda_s3 upload_mult [-h] --bucket <bucket> --local_dir <directory> [--key_prefix <prefix>]\r\n",
      "                          [--recursive] [--dry_run] [--ignore [<ignore str> [<ignore str> ...]]]\r\n",
      "                          [--metadata <dict str, or path to script>]\r\n",
      "\r\n",
      "Upload multiple objects.\r\n",
      "\r\n",
      "optional arguments:\r\n",
      "  -h, --help            show this help message and exit\r\n",
      "  --bucket <bucket>, -b <bucket>\r\n",
      "                        Destination bucket.\r\n",
      "  --local_dir <directory>, -ld <directory>\r\n",
      "                        Directory to search for files.\r\n",
      "  --key_prefix <prefix>, -kp <prefix>\r\n",
      "                        Prepend this string to key\r\n",
      "  --recursive, -r       recursively search directory\r\n",
      "  --dry_run, -dr        Does not upload files.\r\n",
      "  --ignore [<ignore str> [<ignore str> ...]], -i [<ignore str> [<ignore str> ...]]\r\n",
      "                        directory to search for files\r\n",
      "  --metadata <dict str, or path to script>, -md <dict str, or path to script>\r\n",
      "                        Optionally provide metadata for an object. This can be a function where file is\r\n",
      "                        passed.\r\n"
     ]
    }
   ],
   "source": [
    "# Sub-Action help\n",
    "! ./rda_s3.py um -h"
   ]
  },
  {
   "cell_type": "markdown",
   "metadata": {},
   "source": [
    "## Credentials"
   ]
  },
  {
   "cell_type": "markdown",
   "metadata": {},
   "source": [
    "By default, credentials are found in `~/.aws/credentials`.\n",
    "\n",
    "Change environment variables to use different credentials:\n",
    "\n",
    "`AWS_SHARED_CREDENTIALS_FILE` : Path of credential file.\n",
    "\n",
    "`AWS_PROFILE` : Profile to use (default is [default])"
   ]
  },
  {
   "cell_type": "code",
   "execution_count": 4,
   "metadata": {},
   "outputs": [
    {
     "name": "stdout",
     "output_type": "stream",
     "text": [
      "[default]\r\n",
      "aws_access_key_id = AK06XKLYCIANHSDVOSL6\r\n",
      "aws_secret_access_key = bN3i7jcp3avElZ1/cSI1zTloy50Lbqcwz04ajD5Q\r\n",
      "\r\n",
      "[profile Riley]\r\n",
      "aws_access_key_id = DummyKey\r\n",
      "aws_secret_access_key = DummySecret\r\n"
     ]
    }
   ],
   "source": [
    "! cat ~/.aws/credentials"
   ]
  },
  {
   "cell_type": "code",
   "execution_count": 5,
   "metadata": {},
   "outputs": [
    {
     "name": "stdout",
     "output_type": "stream",
     "text": [
      "[\r\n",
      "    {\r\n",
      "        \"Name\": \"rda-data\",\r\n",
      "        \"CreationDate\": \"2020-03-06 17:48:04+00:00\"\r\n",
      "    },\r\n",
      "    {\r\n",
      "        \"Name\": \"rda-decsdata\",\r\n",
      "        \"CreationDate\": \"2020-03-09 16:50:37+00:00\"\r\n",
      "    },\r\n",
      "    {\r\n",
      "        \"Name\": \"rda-requests\",\r\n",
      "        \"CreationDate\": \"2020-03-06 16:35:01+00:00\"\r\n",
      "    },\r\n",
      "    {\r\n",
      "        \"Name\": \"rda-test-chifan\",\r\n",
      "        \"CreationDate\": \"2020-03-06 16:47:08+00:00\"\r\n",
      "    },\r\n",
      "    {\r\n",
      "        \"Name\": \"rda-test-dattore\",\r\n",
      "        \"CreationDate\": \"2020-03-06 16:47:24+00:00\"\r\n",
      "    },\r\n",
      "    {\r\n",
      "        \"Name\": \"rda-test-davestep\",\r\n",
      "        \"CreationDate\": \"2020-03-06 16:46:43+00:00\"\r\n",
      "    },\r\n",
      "    {\r\n",
      "        \"Name\": \"rda-test-rpconroy\",\r\n",
      "        \"CreationDate\": \"2020-03-06 16:46:29+00:00\"\r\n",
      "    },\r\n",
      "    {\r\n",
      "        \"Name\": \"rda-test-schuster\",\r\n",
      "        \"CreationDate\": \"2020-03-06 16:43:25+00:00\"\r\n",
      "    },\r\n",
      "    {\r\n",
      "        \"Name\": \"rda-test-tcram\",\r\n",
      "        \"CreationDate\": \"2020-03-06 16:44:35+00:00\"\r\n",
      "    },\r\n",
      "    {\r\n",
      "        \"Name\": \"rda-test-zji\",\r\n",
      "        \"CreationDate\": \"2020-03-06 16:46:56+00:00\"\r",
      "\r\n",
      "    }\r\n",
      "]\r\n"
     ]
    }
   ],
   "source": [
    "! ./rda_s3.py -pp --use_local_config lb"
   ]
  },
  {
   "cell_type": "code",
   "execution_count": 1,
   "metadata": {},
   "outputs": [
    {
     "name": "stdout",
     "output_type": "stream",
     "text": [
      "Traceback (most recent call last):\r\n",
      "  File \"./rda_s3.py\", line 723, in <module>\r\n",
      "    main(*sys.argv[1:])\r\n",
      "  File \"./rda_s3.py\", line 714, in main\r\n",
      "    ret = do_action(args)\r\n",
      "  File \"./rda_s3.py\", line 670, in do_action\r\n",
      "    return prog(**args_dict)\r\n",
      "  File \"./rda_s3.py\", line 288, in list_buckets\r\n",
      "    response = client.list_buckets()['Buckets']\r\n",
      "  File \"/anaconda3/lib/python3.6/site-packages/botocore/client.py\", line 357, in _api_call\r\n",
      "    return self._make_api_call(operation_name, kwargs)\r\n",
      "  File \"/anaconda3/lib/python3.6/site-packages/botocore/client.py\", line 661, in _make_api_call\r\n",
      "    raise error_class(parsed_response, operation_name)\r\n",
      "botocore.exceptions.ClientError: An error occurred (InvalidAccessKeyId) when calling the ListBuckets operation: The AWS Access Key Id you provided does not exist in our records.\r\n"
     ]
    }
   ],
   "source": [
    "# This will fail\n",
    "! export AWS_PROFILE='profile Riley' && ./rda_s3.py lb "
   ]
  },
  {
   "cell_type": "code",
   "execution_count": 3,
   "metadata": {},
   "outputs": [
    {
     "name": "stdout",
     "output_type": "stream",
     "text": [
      "['rda-data', 'rda-decsdata', 'rda-requests', 'rda-test-chifan', 'rda-test-dattore', 'rda-test-davestep', 'rda-test-rpconroy', 'rda-test-schuster', 'rda-test-tcram', 'rda-test-zji']\r\n"
     ]
    }
   ],
   "source": [
    "! ./rda_s3.py lb -bo "
   ]
  },
  {
   "cell_type": "markdown",
   "metadata": {},
   "source": [
    "### Only two python cells. Demonstrating that you can use rda_s3 as a python module"
   ]
  },
  {
   "cell_type": "code",
   "execution_count": 13,
   "metadata": {},
   "outputs": [
    {
     "name": "stdout",
     "output_type": "stream",
     "text": [
      "rda-data Created on the 48 minute\n",
      "rda-decsdata Created on the 50 minute\n",
      "rda-requests Created on the 35 minute\n",
      "rda-test-chifan Created on the 47 minute\n",
      "rda-test-dattore Created on the 47 minute\n",
      "rda-test-davestep Created on the 46 minute\n",
      "rda-test-rpconroy Created on the 46 minute\n",
      "rda-test-schuster Created on the 43 minute\n",
      "rda-test-tcram Created on the 44 minute\n",
      "rda-test-zji Created on the 46 minute\n"
     ]
    }
   ],
   "source": [
    "import rda_s3 as rs\n",
    "buckets = rs.list_buckets()\n",
    "for i in buckets: \n",
    "    print(i['Name'], 'Created on the', i['CreationDate'].minute, 'minute')"
   ]
  },
  {
   "cell_type": "code",
   "execution_count": 14,
   "metadata": {},
   "outputs": [
    {
     "name": "stdout",
     "output_type": "stream",
     "text": [
      "[{'Name': 'rda-data', 'CreationDate': datetime.datetime(2020, 3, 6, 17, 48, 4, tzinfo=tzutc())}, {'Name': 'rda-decsdata', 'CreationDate': datetime.datetime(2020, 3, 9, 16, 50, 37, tzinfo=tzutc())}, {'Name': 'rda-requests', 'CreationDate': datetime.datetime(2020, 3, 6, 16, 35, 1, tzinfo=tzutc())}, {'Name': 'rda-test-chifan', 'CreationDate': datetime.datetime(2020, 3, 6, 16, 47, 8, tzinfo=tzutc())}, {'Name': 'rda-test-dattore', 'CreationDate': datetime.datetime(2020, 3, 6, 16, 47, 24, tzinfo=tzutc())}, {'Name': 'rda-test-davestep', 'CreationDate': datetime.datetime(2020, 3, 6, 16, 46, 43, tzinfo=tzutc())}, {'Name': 'rda-test-rpconroy', 'CreationDate': datetime.datetime(2020, 3, 6, 16, 46, 29, tzinfo=tzutc())}, {'Name': 'rda-test-schuster', 'CreationDate': datetime.datetime(2020, 3, 6, 16, 43, 25, tzinfo=tzutc())}, {'Name': 'rda-test-tcram', 'CreationDate': datetime.datetime(2020, 3, 6, 16, 44, 35, tzinfo=tzutc())}, {'Name': 'rda-test-zji', 'CreationDate': datetime.datetime(2020, 3, 6, 16, 46, 56, tzinfo=tzutc())}]\n"
     ]
    }
   ],
   "source": [
    "import rda_s3 as rs\n",
    "buckets = rs.main('-np', 'lb')\n",
    "print(buckets)"
   ]
  },
  {
   "cell_type": "markdown",
   "metadata": {},
   "source": [
    "# Actions"
   ]
  },
  {
   "cell_type": "markdown",
   "metadata": {},
   "source": [
    "#### Get object (download)"
   ]
  },
  {
   "cell_type": "code",
   "execution_count": 21,
   "metadata": {},
   "outputs": [
    {
     "name": "stdout",
     "output_type": "stream",
     "text": [
      "total 96\n",
      "-rw-r--r--  1 rpconroy  CIT\\Domain Users   1251 Mar 16 07:44 __init__.py\n",
      "drwxr-xr-x  4 rpconroy  CIT\\Domain Users    128 Mar 26 09:11 \u001b[34m__pycache__\u001b[m\u001b[m\n",
      "-rwxr-xr-x  1 rpconroy  CIT\\Domain Users  22378 Mar 26 09:40 \u001b[31mrda_s3.py\u001b[m\u001b[m\n",
      "-rw-r--r--  1 rpconroy  CIT\\Domain Users  12994 Mar 26 09:42 rda_s3_demo.ipynb\n",
      "-rw-r--r--  1 rpconroy  CIT\\Domain Users    299 Mar 26 09:42 test.test\n",
      "\n",
      "After pull\n",
      "\n",
      "total 96\n",
      "-rw-r--r--  1 rpconroy  CIT\\Domain Users   1251 Mar 16 07:44 __init__.py\n",
      "drwxr-xr-x  4 rpconroy  CIT\\Domain Users    128 Mar 26 09:11 \u001b[34m__pycache__\u001b[m\u001b[m\n",
      "-rwxr-xr-x  1 rpconroy  CIT\\Domain Users  22378 Mar 26 09:40 \u001b[31mrda_s3.py\u001b[m\u001b[m\n",
      "-rw-r--r--  1 rpconroy  CIT\\Domain Users  12994 Mar 26 09:42 rda_s3_demo.ipynb\n",
      "-rw-r--r--  1 rpconroy  CIT\\Domain Users    299 Mar 26 09:42 test.test\n"
     ]
    }
   ],
   "source": [
    "! ls -l\n",
    "! ./rda_s3.py go -b rda-test-rpconroy -k test.test\n",
    "! echo \"\\nAfter pull\\n\"\n",
    "! ls -l"
   ]
  },
  {
   "cell_type": "markdown",
   "metadata": {},
   "source": [
    "#### Delete object"
   ]
  },
  {
   "cell_type": "code",
   "execution_count": 23,
   "metadata": {},
   "outputs": [
    {
     "name": "stdout",
     "output_type": "stream",
     "text": [
      "{\"ResponseMetadata\": {\"RequestId\": \"425AE82765A91F49\", \"HostId\": \"fb4d6b40-74da-4f0c-be1c-12a6f173ea7bb8c382e6-4715-4823-8afe-6b03fdc5c5b6\", \"HTTPStatusCode\": 204, \"HTTPHeaders\": {\"x-amz-id-2\": \"fb4d6b40-74da-4f0c-be1c-12a6f173ea7bb8c382e6-4715-4823-8afe-6b03fdc5c5b6\", \"x-amz-request-id\": \"425AE82765A91F49\", \"date\": \"Thu, 26 Mar 2020 15:46:21 GMT\", \"server\": \"WD-ActiveScale\"}, \"RetryAttempts\": 0}}\r\n"
     ]
    }
   ],
   "source": [
    "! ./rda_s3.py dl -b rda-test-rpconroy -k test.test"
   ]
  },
  {
   "cell_type": "markdown",
   "metadata": {},
   "source": [
    "#### list single object"
   ]
  },
  {
   "cell_type": "code",
   "execution_count": 25,
   "metadata": {},
   "outputs": [
    {
     "name": "stdout",
     "output_type": "stream",
     "text": [
      "[]\r\n"
     ]
    }
   ],
   "source": [
    "! ./rda_s3.py lo -b rda-test-rpconroy test.test"
   ]
  },
  {
   "cell_type": "markdown",
   "metadata": {},
   "source": [
    "#### upload object"
   ]
  },
  {
   "cell_type": "code",
   "execution_count": 27,
   "metadata": {},
   "outputs": [
    {
     "name": "stdout",
     "output_type": "stream",
     "text": [
      "Traceback (most recent call last):\r\n",
      "  File \"./rda_s3.py\", line 726, in <module>\r\n",
      "    main(*sys.argv[1:])\r\n",
      "  File \"./rda_s3.py\", line 717, in main\r\n",
      "    ret = do_action(args)\r\n",
      "  File \"./rda_s3.py\", line 670, in do_action\r\n",
      "    return prog(**args_dict)\r\n",
      "  File \"./rda_s3.py\", line 452, in upload_object\r\n",
      "    return client.upload_file(local_file, bucket, key, ExtraArgs=meta_dict)\r\n",
      "  File \"/anaconda3/lib/python3.6/site-packages/boto3/s3/inject.py\", line 131, in upload_file\r\n",
      "    extra_args=ExtraArgs, callback=Callback)\r\n",
      "  File \"/anaconda3/lib/python3.6/site-packages/boto3/s3/transfer.py\", line 279, in upload_file\r\n",
      "    future.result()\r\n",
      "  File \"/anaconda3/lib/python3.6/site-packages/s3transfer/futures.py\", line 106, in result\r\n",
      "    return self._coordinator.result()\r\n",
      "  File \"/anaconda3/lib/python3.6/site-packages/s3transfer/futures.py\", line 265, in result\r\n",
      "    raise self._exception\r\n",
      "  File \"/anaconda3/lib/python3.6/site-packages/s3transfer/tasks.py\", line 126, in __call__\r\n",
      "    return self._execute_main(kwargs)\r\n",
      "  File \"/anaconda3/lib/python3.6/site-packages/s3transfer/tasks.py\", line 150, in _execute_main\r\n",
      "    return_value = self._main(**kwargs)\r\n",
      "  File \"/anaconda3/lib/python3.6/site-packages/s3transfer/upload.py\", line 692, in _main\r\n",
      "    client.put_object(Bucket=bucket, Key=key, Body=body, **extra_args)\r\n",
      "  File \"/anaconda3/lib/python3.6/site-packages/botocore/client.py\", line 357, in _api_call\r\n",
      "    return self._make_api_call(operation_name, kwargs)\r\n",
      "  File \"/anaconda3/lib/python3.6/site-packages/botocore/client.py\", line 634, in _make_api_call\r\n",
      "    api_params, operation_model, context=request_context)\r\n",
      "  File \"/anaconda3/lib/python3.6/site-packages/botocore/client.py\", line 682, in _convert_to_request_dict\r\n",
      "    api_params, operation_model)\r\n",
      "  File \"/anaconda3/lib/python3.6/site-packages/botocore/validate.py\", line 297, in serialize_to_request\r\n",
      "    raise ParamValidationError(report=report.generate_report())\r\n",
      "botocore.exceptions.ParamValidationError: Parameter validation failed:\r\n",
      "Invalid type for parameter Metadata, value: None, type: <class 'NoneType'>, valid types: <class 'dict'>\r\n"
     ]
    }
   ],
   "source": [
    "! ./rda_s3.py ul -b rda-test-rpconroy -lf test.test -k test.test -md '{\"myMetaKey\":\"myMetaValue\"}'"
   ]
  },
  {
   "cell_type": "code",
   "execution_count": null,
   "metadata": {},
   "outputs": [],
   "source": []
  }
 ],
 "metadata": {
  "kernelspec": {
   "display_name": "Python 3",
   "language": "python",
   "name": "python3"
  },
  "language_info": {
   "codemirror_mode": {
    "name": "ipython",
    "version": 3
   },
   "file_extension": ".py",
   "mimetype": "text/x-python",
   "name": "python",
   "nbconvert_exporter": "python",
   "pygments_lexer": "ipython3",
   "version": "3.6.5"
  }
 },
 "nbformat": 4,
 "nbformat_minor": 2
}
